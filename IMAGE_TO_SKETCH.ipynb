{
  "nbformat": 4,
  "nbformat_minor": 0,
  "metadata": {
    "colab": {
      "provenance": [],
      "authorship_tag": "ABX9TyOATIqrXJ7CawosFWWUBBTq",
      "include_colab_link": true
    },
    "kernelspec": {
      "name": "python3",
      "display_name": "Python 3"
    },
    "language_info": {
      "name": "python"
    }
  },
  "cells": [
    {
      "cell_type": "markdown",
      "metadata": {
        "id": "view-in-github",
        "colab_type": "text"
      },
      "source": [
        "<a href=\"https://colab.research.google.com/github/iqrakhan310/ML-PROJECTS/blob/main/IMAGE_TO_SKETCH.ipynb\" target=\"_parent\"><img src=\"https://colab.research.google.com/assets/colab-badge.svg\" alt=\"Open In Colab\"/></a>"
      ]
    },
    {
      "cell_type": "markdown",
      "source": [
        "OVERVIEW:In this project we would Convert an image to a sketch that involves reducing the image to its essential outlines and edges, which can be achieved using various techniques such as **edge detection.**\n",
        "whe have used one popular library for image processing in which is **OpenCV**.\n",
        "\n",
        "Following steps are used to convert image to sketch like effect.\n",
        "1)Reads the input image\n",
        "2)Convert loaded image to grayscale.\n",
        "3)Apply Gaussian blur to reduce noise and detail in the image.\n",
        "4)Invert the blurred image to create a \"negative\" image.\n",
        "5)Apply the dodge blend mode to the negative image to create the sketch effect.\n",
        "6)Save the resulting sketch.\n",
        "\n",
        "\n",
        "\n",
        "\n"
      ],
      "metadata": {
        "id": "RUpG77zE1sZZ"
      }
    },
    {
      "cell_type": "code",
      "execution_count": null,
      "metadata": {
        "colab": {
          "base_uri": "https://localhost:8080/"
        },
        "id": "tYFWDC3boF5y",
        "outputId": "0ba43878-61f9-4dae-b7e7-eadabd991157"
      },
      "outputs": [
        {
          "output_type": "execute_result",
          "data": {
            "text/plain": [
              "True"
            ]
          },
          "metadata": {},
          "execution_count": 2
        }
      ],
      "source": [
        "import cv2\n",
        "image= cv2.imread(\"BABY.jpeg\")\n",
        "\n",
        "# to convert image from one color space to another.\n",
        "grey_img=cv2.cvtColor(image,cv2.COLOR_BGR2GRAY)  #flag that specifies the color conversion code from the BGR color space to  to the grayscale color space.\n",
        "\n",
        "\n",
        "# Invert the grayscale image to get the \"negative\" image\n",
        "invert_img=cv2.bitwise_not(grey_img)\n",
        "\n",
        "\n",
        "# Apply Gaussian blur to reduce noise and detail\n",
        "blur_img=cv2.GaussianBlur(invert_img,(21,21),0)\n",
        "\n",
        "\n",
        "#inverting blurred image\n",
        "inverted_blur=cv2.bitwise_not(blur_img)\n",
        "\n",
        "\n",
        "#Apply the dodge blend mode to get the sketch and enhances the contrast of the image.\n",
        "sketch=cv2.divide(grey_img,inverted_blur,scale=256.0) # scale to to adjust the intensity of the resulting image.\n",
        "\n",
        "\n",
        "# Convert image to sketch\n",
        "cv2.imwrite(\"sketch.jpeg\",sketch)"
      ]
    }
  ]
}