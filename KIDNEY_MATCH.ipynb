{
  "cells": [
    {
      "cell_type": "code",
      "execution_count": null,
      "metadata": {
        "id": "TTIsrMUcIxSl"
      },
      "outputs": [],
      "source": [
        "# Libraries\n",
        "import pandas as pd\n",
        "import numpy as np\n",
        "from sklearn.model_selection import train_test_split\n",
        "from sklearn.preprocessing import LabelEncoder, StandardScaler, KBinsDiscretizer\n",
        "from sklearn.impute import SimpleImputer\n",
        "from sklearn.linear_model import LinearRegression\n",
        "from sklearn.ensemble import RandomForestRegressor, VotingRegressor\n",
        "from sklearn.svm import SVR\n",
        "from sklearn.neighbors import KNeighborsRegressor\n",
        "from xgboost import XGBRegressor\n",
        "from sklearn.metrics import accuracy_score, mean_absolute_error, mean_squared_error, r2_score, confusion_matrix, classification_report\n",
        "import seaborn as sns\n",
        "import matplotlib.pyplot as plt\n",
        "\n"
      ]
    },
    {
      "cell_type": "markdown",
      "source": [
        "LinearRegression\n",
        "RandomForestRegressor\n",
        "VotingRegressor\n",
        "SVR\n",
        "KNeighborsRegressor\n",
        "XGBRegressor\n",
        "\n"
      ],
      "metadata": {
        "id": "aWf7BzvGQeYp"
      }
    },
    {
      "cell_type": "markdown",
      "source": [],
      "metadata": {
        "id": "w4KtBq0XQa3n"
      }
    },
    {
      "cell_type": "code",
      "execution_count": null,
      "metadata": {
        "id": "3xj188WqMcgn"
      },
      "outputs": [],
      "source": [
        "# Load dataset\n",
        "df = pd.read_csv('/content/Kidney_match_Data.csv')"
      ]
    },
    {
      "cell_type": "code",
      "source": [
        "df.head()"
      ],
      "metadata": {
        "colab": {
          "base_uri": "https://localhost:8080/",
          "height": 243
        },
        "id": "B_mgASouY4nN",
        "outputId": "70d16edb-d831-4676-dd48-a7b0139190d1"
      },
      "execution_count": null,
      "outputs": [
        {
          "output_type": "execute_result",
          "data": {
            "text/plain": [
              "  Donor_ID Recipient_ID Blood_Type_Donor Blood_Type_Recipient  HLA_Mismatch  \\\n",
              "0     D001         R001               AB                   AB             1   \n",
              "1     D002         R002                A                    O             5   \n",
              "2     D003         R003                B                    A             3   \n",
              "3     D004         R004                A                   AB             2   \n",
              "4     D005         R005               AB                   AB             3   \n",
              "\n",
              "  Crossmatch_Test  Donor_GFR  Recipient_GFR  Kidney_Size_Donor (cm³)  \\\n",
              "0        Negative      94.98          48.45                   185.46   \n",
              "1        Negative     118.03          57.24                   178.72   \n",
              "2        Negative     109.28          52.48                   179.63   \n",
              "3        Negative     103.95          22.37                   173.36   \n",
              "4        Negative      86.24          32.53                   154.21   \n",
              "\n",
              "   Kidney_Size_Recipient (cm³)  Age_Recipient  BMI_Recipient Urgency_Level  \\\n",
              "0                       162.67             60          19.81        Medium   \n",
              "1                       175.50             31          30.57        Medium   \n",
              "2                       146.94             38          21.59        Medium   \n",
              "3                       191.91             37          32.66           Low   \n",
              "4                       146.76             39          32.01        Medium   \n",
              "\n",
              "   PRA_Level (%)  Similarity_Score  \n",
              "0          64.48              0.84  \n",
              "1          39.51              0.92  \n",
              "2          71.32              0.93  \n",
              "3          19.92              0.87  \n",
              "4          89.02              0.72  "
            ],
            "text/html": [
              "\n",
              "  <div id=\"df-cd1a9529-15ff-4aea-981a-4aa2a984d361\" class=\"colab-df-container\">\n",
              "    <div>\n",
              "<style scoped>\n",
              "    .dataframe tbody tr th:only-of-type {\n",
              "        vertical-align: middle;\n",
              "    }\n",
              "\n",
              "    .dataframe tbody tr th {\n",
              "        vertical-align: top;\n",
              "    }\n",
              "\n",
              "    .dataframe thead th {\n",
              "        text-align: right;\n",
              "    }\n",
              "</style>\n",
              "<table border=\"1\" class=\"dataframe\">\n",
              "  <thead>\n",
              "    <tr style=\"text-align: right;\">\n",
              "      <th></th>\n",
              "      <th>Donor_ID</th>\n",
              "      <th>Recipient_ID</th>\n",
              "      <th>Blood_Type_Donor</th>\n",
              "      <th>Blood_Type_Recipient</th>\n",
              "      <th>HLA_Mismatch</th>\n",
              "      <th>Crossmatch_Test</th>\n",
              "      <th>Donor_GFR</th>\n",
              "      <th>Recipient_GFR</th>\n",
              "      <th>Kidney_Size_Donor (cm³)</th>\n",
              "      <th>Kidney_Size_Recipient (cm³)</th>\n",
              "      <th>Age_Recipient</th>\n",
              "      <th>BMI_Recipient</th>\n",
              "      <th>Urgency_Level</th>\n",
              "      <th>PRA_Level (%)</th>\n",
              "      <th>Similarity_Score</th>\n",
              "    </tr>\n",
              "  </thead>\n",
              "  <tbody>\n",
              "    <tr>\n",
              "      <th>0</th>\n",
              "      <td>D001</td>\n",
              "      <td>R001</td>\n",
              "      <td>AB</td>\n",
              "      <td>AB</td>\n",
              "      <td>1</td>\n",
              "      <td>Negative</td>\n",
              "      <td>94.98</td>\n",
              "      <td>48.45</td>\n",
              "      <td>185.46</td>\n",
              "      <td>162.67</td>\n",
              "      <td>60</td>\n",
              "      <td>19.81</td>\n",
              "      <td>Medium</td>\n",
              "      <td>64.48</td>\n",
              "      <td>0.84</td>\n",
              "    </tr>\n",
              "    <tr>\n",
              "      <th>1</th>\n",
              "      <td>D002</td>\n",
              "      <td>R002</td>\n",
              "      <td>A</td>\n",
              "      <td>O</td>\n",
              "      <td>5</td>\n",
              "      <td>Negative</td>\n",
              "      <td>118.03</td>\n",
              "      <td>57.24</td>\n",
              "      <td>178.72</td>\n",
              "      <td>175.50</td>\n",
              "      <td>31</td>\n",
              "      <td>30.57</td>\n",
              "      <td>Medium</td>\n",
              "      <td>39.51</td>\n",
              "      <td>0.92</td>\n",
              "    </tr>\n",
              "    <tr>\n",
              "      <th>2</th>\n",
              "      <td>D003</td>\n",
              "      <td>R003</td>\n",
              "      <td>B</td>\n",
              "      <td>A</td>\n",
              "      <td>3</td>\n",
              "      <td>Negative</td>\n",
              "      <td>109.28</td>\n",
              "      <td>52.48</td>\n",
              "      <td>179.63</td>\n",
              "      <td>146.94</td>\n",
              "      <td>38</td>\n",
              "      <td>21.59</td>\n",
              "      <td>Medium</td>\n",
              "      <td>71.32</td>\n",
              "      <td>0.93</td>\n",
              "    </tr>\n",
              "    <tr>\n",
              "      <th>3</th>\n",
              "      <td>D004</td>\n",
              "      <td>R004</td>\n",
              "      <td>A</td>\n",
              "      <td>AB</td>\n",
              "      <td>2</td>\n",
              "      <td>Negative</td>\n",
              "      <td>103.95</td>\n",
              "      <td>22.37</td>\n",
              "      <td>173.36</td>\n",
              "      <td>191.91</td>\n",
              "      <td>37</td>\n",
              "      <td>32.66</td>\n",
              "      <td>Low</td>\n",
              "      <td>19.92</td>\n",
              "      <td>0.87</td>\n",
              "    </tr>\n",
              "    <tr>\n",
              "      <th>4</th>\n",
              "      <td>D005</td>\n",
              "      <td>R005</td>\n",
              "      <td>AB</td>\n",
              "      <td>AB</td>\n",
              "      <td>3</td>\n",
              "      <td>Negative</td>\n",
              "      <td>86.24</td>\n",
              "      <td>32.53</td>\n",
              "      <td>154.21</td>\n",
              "      <td>146.76</td>\n",
              "      <td>39</td>\n",
              "      <td>32.01</td>\n",
              "      <td>Medium</td>\n",
              "      <td>89.02</td>\n",
              "      <td>0.72</td>\n",
              "    </tr>\n",
              "  </tbody>\n",
              "</table>\n",
              "</div>\n",
              "    <div class=\"colab-df-buttons\">\n",
              "\n",
              "  <div class=\"colab-df-container\">\n",
              "    <button class=\"colab-df-convert\" onclick=\"convertToInteractive('df-cd1a9529-15ff-4aea-981a-4aa2a984d361')\"\n",
              "            title=\"Convert this dataframe to an interactive table.\"\n",
              "            style=\"display:none;\">\n",
              "\n",
              "  <svg xmlns=\"http://www.w3.org/2000/svg\" height=\"24px\" viewBox=\"0 -960 960 960\">\n",
              "    <path d=\"M120-120v-720h720v720H120Zm60-500h600v-160H180v160Zm220 220h160v-160H400v160Zm0 220h160v-160H400v160ZM180-400h160v-160H180v160Zm440 0h160v-160H620v160ZM180-180h160v-160H180v160Zm440 0h160v-160H620v160Z\"/>\n",
              "  </svg>\n",
              "    </button>\n",
              "\n",
              "  <style>\n",
              "    .colab-df-container {\n",
              "      display:flex;\n",
              "      gap: 12px;\n",
              "    }\n",
              "\n",
              "    .colab-df-convert {\n",
              "      background-color: #E8F0FE;\n",
              "      border: none;\n",
              "      border-radius: 50%;\n",
              "      cursor: pointer;\n",
              "      display: none;\n",
              "      fill: #1967D2;\n",
              "      height: 32px;\n",
              "      padding: 0 0 0 0;\n",
              "      width: 32px;\n",
              "    }\n",
              "\n",
              "    .colab-df-convert:hover {\n",
              "      background-color: #E2EBFA;\n",
              "      box-shadow: 0px 1px 2px rgba(60, 64, 67, 0.3), 0px 1px 3px 1px rgba(60, 64, 67, 0.15);\n",
              "      fill: #174EA6;\n",
              "    }\n",
              "\n",
              "    .colab-df-buttons div {\n",
              "      margin-bottom: 4px;\n",
              "    }\n",
              "\n",
              "    [theme=dark] .colab-df-convert {\n",
              "      background-color: #3B4455;\n",
              "      fill: #D2E3FC;\n",
              "    }\n",
              "\n",
              "    [theme=dark] .colab-df-convert:hover {\n",
              "      background-color: #434B5C;\n",
              "      box-shadow: 0px 1px 3px 1px rgba(0, 0, 0, 0.15);\n",
              "      filter: drop-shadow(0px 1px 2px rgba(0, 0, 0, 0.3));\n",
              "      fill: #FFFFFF;\n",
              "    }\n",
              "  </style>\n",
              "\n",
              "    <script>\n",
              "      const buttonEl =\n",
              "        document.querySelector('#df-cd1a9529-15ff-4aea-981a-4aa2a984d361 button.colab-df-convert');\n",
              "      buttonEl.style.display =\n",
              "        google.colab.kernel.accessAllowed ? 'block' : 'none';\n",
              "\n",
              "      async function convertToInteractive(key) {\n",
              "        const element = document.querySelector('#df-cd1a9529-15ff-4aea-981a-4aa2a984d361');\n",
              "        const dataTable =\n",
              "          await google.colab.kernel.invokeFunction('convertToInteractive',\n",
              "                                                    [key], {});\n",
              "        if (!dataTable) return;\n",
              "\n",
              "        const docLinkHtml = 'Like what you see? Visit the ' +\n",
              "          '<a target=\"_blank\" href=https://colab.research.google.com/notebooks/data_table.ipynb>data table notebook</a>'\n",
              "          + ' to learn more about interactive tables.';\n",
              "        element.innerHTML = '';\n",
              "        dataTable['output_type'] = 'display_data';\n",
              "        await google.colab.output.renderOutput(dataTable, element);\n",
              "        const docLink = document.createElement('div');\n",
              "        docLink.innerHTML = docLinkHtml;\n",
              "        element.appendChild(docLink);\n",
              "      }\n",
              "    </script>\n",
              "  </div>\n",
              "\n",
              "\n",
              "<div id=\"df-d281c3c8-b200-4cb8-8735-35052fc174e7\">\n",
              "  <button class=\"colab-df-quickchart\" onclick=\"quickchart('df-d281c3c8-b200-4cb8-8735-35052fc174e7')\"\n",
              "            title=\"Suggest charts\"\n",
              "            style=\"display:none;\">\n",
              "\n",
              "<svg xmlns=\"http://www.w3.org/2000/svg\" height=\"24px\"viewBox=\"0 0 24 24\"\n",
              "     width=\"24px\">\n",
              "    <g>\n",
              "        <path d=\"M19 3H5c-1.1 0-2 .9-2 2v14c0 1.1.9 2 2 2h14c1.1 0 2-.9 2-2V5c0-1.1-.9-2-2-2zM9 17H7v-7h2v7zm4 0h-2V7h2v10zm4 0h-2v-4h2v4z\"/>\n",
              "    </g>\n",
              "</svg>\n",
              "  </button>\n",
              "\n",
              "<style>\n",
              "  .colab-df-quickchart {\n",
              "      --bg-color: #E8F0FE;\n",
              "      --fill-color: #1967D2;\n",
              "      --hover-bg-color: #E2EBFA;\n",
              "      --hover-fill-color: #174EA6;\n",
              "      --disabled-fill-color: #AAA;\n",
              "      --disabled-bg-color: #DDD;\n",
              "  }\n",
              "\n",
              "  [theme=dark] .colab-df-quickchart {\n",
              "      --bg-color: #3B4455;\n",
              "      --fill-color: #D2E3FC;\n",
              "      --hover-bg-color: #434B5C;\n",
              "      --hover-fill-color: #FFFFFF;\n",
              "      --disabled-bg-color: #3B4455;\n",
              "      --disabled-fill-color: #666;\n",
              "  }\n",
              "\n",
              "  .colab-df-quickchart {\n",
              "    background-color: var(--bg-color);\n",
              "    border: none;\n",
              "    border-radius: 50%;\n",
              "    cursor: pointer;\n",
              "    display: none;\n",
              "    fill: var(--fill-color);\n",
              "    height: 32px;\n",
              "    padding: 0;\n",
              "    width: 32px;\n",
              "  }\n",
              "\n",
              "  .colab-df-quickchart:hover {\n",
              "    background-color: var(--hover-bg-color);\n",
              "    box-shadow: 0 1px 2px rgba(60, 64, 67, 0.3), 0 1px 3px 1px rgba(60, 64, 67, 0.15);\n",
              "    fill: var(--button-hover-fill-color);\n",
              "  }\n",
              "\n",
              "  .colab-df-quickchart-complete:disabled,\n",
              "  .colab-df-quickchart-complete:disabled:hover {\n",
              "    background-color: var(--disabled-bg-color);\n",
              "    fill: var(--disabled-fill-color);\n",
              "    box-shadow: none;\n",
              "  }\n",
              "\n",
              "  .colab-df-spinner {\n",
              "    border: 2px solid var(--fill-color);\n",
              "    border-color: transparent;\n",
              "    border-bottom-color: var(--fill-color);\n",
              "    animation:\n",
              "      spin 1s steps(1) infinite;\n",
              "  }\n",
              "\n",
              "  @keyframes spin {\n",
              "    0% {\n",
              "      border-color: transparent;\n",
              "      border-bottom-color: var(--fill-color);\n",
              "      border-left-color: var(--fill-color);\n",
              "    }\n",
              "    20% {\n",
              "      border-color: transparent;\n",
              "      border-left-color: var(--fill-color);\n",
              "      border-top-color: var(--fill-color);\n",
              "    }\n",
              "    30% {\n",
              "      border-color: transparent;\n",
              "      border-left-color: var(--fill-color);\n",
              "      border-top-color: var(--fill-color);\n",
              "      border-right-color: var(--fill-color);\n",
              "    }\n",
              "    40% {\n",
              "      border-color: transparent;\n",
              "      border-right-color: var(--fill-color);\n",
              "      border-top-color: var(--fill-color);\n",
              "    }\n",
              "    60% {\n",
              "      border-color: transparent;\n",
              "      border-right-color: var(--fill-color);\n",
              "    }\n",
              "    80% {\n",
              "      border-color: transparent;\n",
              "      border-right-color: var(--fill-color);\n",
              "      border-bottom-color: var(--fill-color);\n",
              "    }\n",
              "    90% {\n",
              "      border-color: transparent;\n",
              "      border-bottom-color: var(--fill-color);\n",
              "    }\n",
              "  }\n",
              "</style>\n",
              "\n",
              "  <script>\n",
              "    async function quickchart(key) {\n",
              "      const quickchartButtonEl =\n",
              "        document.querySelector('#' + key + ' button');\n",
              "      quickchartButtonEl.disabled = true;  // To prevent multiple clicks.\n",
              "      quickchartButtonEl.classList.add('colab-df-spinner');\n",
              "      try {\n",
              "        const charts = await google.colab.kernel.invokeFunction(\n",
              "            'suggestCharts', [key], {});\n",
              "      } catch (error) {\n",
              "        console.error('Error during call to suggestCharts:', error);\n",
              "      }\n",
              "      quickchartButtonEl.classList.remove('colab-df-spinner');\n",
              "      quickchartButtonEl.classList.add('colab-df-quickchart-complete');\n",
              "    }\n",
              "    (() => {\n",
              "      let quickchartButtonEl =\n",
              "        document.querySelector('#df-d281c3c8-b200-4cb8-8735-35052fc174e7 button');\n",
              "      quickchartButtonEl.style.display =\n",
              "        google.colab.kernel.accessAllowed ? 'block' : 'none';\n",
              "    })();\n",
              "  </script>\n",
              "</div>\n",
              "\n",
              "    </div>\n",
              "  </div>\n"
            ],
            "application/vnd.google.colaboratory.intrinsic+json": {
              "type": "dataframe",
              "variable_name": "df",
              "summary": "{\n  \"name\": \"df\",\n  \"rows\": 1534,\n  \"fields\": [\n    {\n      \"column\": \"Donor_ID\",\n      \"properties\": {\n        \"dtype\": \"string\",\n        \"num_unique_values\": 1000,\n        \"samples\": [\n          \"D522\",\n          \"D738\",\n          \"D741\"\n        ],\n        \"semantic_type\": \"\",\n        \"description\": \"\"\n      }\n    },\n    {\n      \"column\": \"Recipient_ID\",\n      \"properties\": {\n        \"dtype\": \"string\",\n        \"num_unique_values\": 1000,\n        \"samples\": [\n          \"R522\",\n          \"R738\",\n          \"R741\"\n        ],\n        \"semantic_type\": \"\",\n        \"description\": \"\"\n      }\n    },\n    {\n      \"column\": \"Blood_Type_Donor\",\n      \"properties\": {\n        \"dtype\": \"category\",\n        \"num_unique_values\": 4,\n        \"samples\": [\n          \"A\",\n          \"O\",\n          \"AB\"\n        ],\n        \"semantic_type\": \"\",\n        \"description\": \"\"\n      }\n    },\n    {\n      \"column\": \"Blood_Type_Recipient\",\n      \"properties\": {\n        \"dtype\": \"category\",\n        \"num_unique_values\": 4,\n        \"samples\": [\n          \"O\",\n          \"B\",\n          \"AB\"\n        ],\n        \"semantic_type\": \"\",\n        \"description\": \"\"\n      }\n    },\n    {\n      \"column\": \"HLA_Mismatch\",\n      \"properties\": {\n        \"dtype\": \"number\",\n        \"std\": 1,\n        \"min\": 0,\n        \"max\": 6,\n        \"num_unique_values\": 7,\n        \"samples\": [\n          1,\n          5,\n          4\n        ],\n        \"semantic_type\": \"\",\n        \"description\": \"\"\n      }\n    },\n    {\n      \"column\": \"Crossmatch_Test\",\n      \"properties\": {\n        \"dtype\": \"category\",\n        \"num_unique_values\": 2,\n        \"samples\": [\n          \"Positive\",\n          \"Negative\"\n        ],\n        \"semantic_type\": \"\",\n        \"description\": \"\"\n      }\n    },\n    {\n      \"column\": \"Donor_GFR\",\n      \"properties\": {\n        \"dtype\": \"number\",\n        \"std\": 11.737128184677534,\n        \"min\": 80.02,\n        \"max\": 119.99,\n        \"num_unique_values\": 1270,\n        \"samples\": [\n          90.51,\n          108.69\n        ],\n        \"semantic_type\": \"\",\n        \"description\": \"\"\n      }\n    },\n    {\n      \"column\": \"Recipient_GFR\",\n      \"properties\": {\n        \"dtype\": \"number\",\n        \"std\": 20.937906898426316,\n        \"min\": 10.23,\n        \"max\": 90.0,\n        \"num_unique_values\": 1396,\n        \"samples\": [\n          88.14,\n          45.65\n        ],\n        \"semantic_type\": \"\",\n        \"description\": \"\"\n      }\n    },\n    {\n      \"column\": \"Kidney_Size_Donor (cm\\u00b3)\",\n      \"properties\": {\n        \"dtype\": \"number\",\n        \"std\": 24.02888905081049,\n        \"min\": 150.03,\n        \"max\": 249.94,\n        \"num_unique_values\": 1382,\n        \"samples\": [\n          215.67,\n          166.2\n        ],\n        \"semantic_type\": \"\",\n        \"description\": \"\"\n      }\n    },\n    {\n      \"column\": \"Kidney_Size_Recipient (cm\\u00b3)\",\n      \"properties\": {\n        \"dtype\": \"number\",\n        \"std\": 24.318882940151692,\n        \"min\": 140.01,\n        \"max\": 239.83,\n        \"num_unique_values\": 1356,\n        \"samples\": [\n          166.31,\n          178.05\n        ],\n        \"semantic_type\": \"\",\n        \"description\": \"\"\n      }\n    },\n    {\n      \"column\": \"Age_Recipient\",\n      \"properties\": {\n        \"dtype\": \"number\",\n        \"std\": 15,\n        \"min\": 18,\n        \"max\": 70,\n        \"num_unique_values\": 53,\n        \"samples\": [\n          58,\n          50\n        ],\n        \"semantic_type\": \"\",\n        \"description\": \"\"\n      }\n    },\n    {\n      \"column\": \"BMI_Recipient\",\n      \"properties\": {\n        \"dtype\": \"number\",\n        \"std\": 4.976186526876497,\n        \"min\": 18.02,\n        \"max\": 34.99,\n        \"num_unique_values\": 1014,\n        \"samples\": [\n          20.46,\n          34.93\n        ],\n        \"semantic_type\": \"\",\n        \"description\": \"\"\n      }\n    },\n    {\n      \"column\": \"Urgency_Level\",\n      \"properties\": {\n        \"dtype\": \"category\",\n        \"num_unique_values\": 3,\n        \"samples\": [\n          \"Medium\",\n          \"Low\"\n        ],\n        \"semantic_type\": \"\",\n        \"description\": \"\"\n      }\n    },\n    {\n      \"column\": \"PRA_Level (%)\",\n      \"properties\": {\n        \"dtype\": \"number\",\n        \"std\": 29.047100859408733,\n        \"min\": 0.0,\n        \"max\": 99.96,\n        \"num_unique_values\": 1415,\n        \"samples\": [\n          43.78,\n          52.85\n        ],\n        \"semantic_type\": \"\",\n        \"description\": \"\"\n      }\n    },\n    {\n      \"column\": \"Similarity_Score\",\n      \"properties\": {\n        \"dtype\": \"number\",\n        \"std\": 0.11762564932895644,\n        \"min\": 0.5,\n        \"max\": 1.0,\n        \"num_unique_values\": 51,\n        \"samples\": [\n          0.88,\n          0.66\n        ],\n        \"semantic_type\": \"\",\n        \"description\": \"\"\n      }\n    }\n  ]\n}"
            }
          },
          "metadata": {},
          "execution_count": 3
        }
      ]
    },
    {
      "cell_type": "markdown",
      "source": [
        "#Preprocessing"
      ],
      "metadata": {
        "id": "BmjHF8FpX5AQ"
      }
    },
    {
      "cell_type": "code",
      "source": [
        "# Drop Donor_ID and Recipient_ID columns\n",
        "df = df.drop(columns=['Donor_ID', 'Recipient_ID'])"
      ],
      "metadata": {
        "id": "G6_QdAx3XtHS"
      },
      "execution_count": null,
      "outputs": []
    },
    {
      "cell_type": "code",
      "source": [
        "# encoding\n",
        "categorical_cols = ['Blood_Type_Donor', 'Blood_Type_Recipient', 'Crossmatch_Test', 'Urgency_Level']\n",
        "for col in categorical_cols:\n",
        "    le = LabelEncoder()\n",
        "    df[col] = le.fit_transform(df[col])"
      ],
      "metadata": {
        "id": "h050SN3WXwzo"
      },
      "execution_count": null,
      "outputs": []
    },
    {
      "cell_type": "code",
      "source": [
        "# Handle missing values (impute with mean for continuous variables)\n",
        "imputer = SimpleImputer(strategy='mean')\n",
        "df[['Donor_GFR', 'Recipient_GFR', 'Kidney_Size_Donor (cm³)', 'Kidney_Size_Recipient (cm³)',\n",
        "    'Age_Recipient', 'BMI_Recipient', 'PRA_Level (%)']] = imputer.fit_transform(\n",
        "    df[['Donor_GFR', 'Recipient_GFR', 'Kidney_Size_Donor (cm³)', 'Kidney_Size_Recipient (cm³)',\n",
        "        'Age_Recipient', 'BMI_Recipient', 'PRA_Level (%)']])"
      ],
      "metadata": {
        "id": "Nas9ztxZYSgV"
      },
      "execution_count": null,
      "outputs": []
    },
    {
      "cell_type": "code",
      "source": [
        "# Split data into features (X) and target variable (y)\n",
        "X = df.drop(['Similarity_Score'], axis=1)  # Features\n",
        "y = df['Similarity_Score']  # Continuous target variable"
      ],
      "metadata": {
        "id": "evgRC0jjYVpO"
      },
      "execution_count": null,
      "outputs": []
    },
    {
      "cell_type": "code",
      "source": [
        "# Normalize continuous features\n",
        "scaler = StandardScaler()\n",
        "X[['Donor_GFR', 'Recipient_GFR', 'Kidney_Size_Donor (cm³)', 'Kidney_Size_Recipient (cm³)',\n",
        "    'Age_Recipient', 'BMI_Recipient', 'PRA_Level (%)']] = scaler.fit_transform(\n",
        "    X[['Donor_GFR', 'Recipient_GFR', 'Kidney_Size_Donor (cm³)', 'Kidney_Size_Recipient (cm³)',\n",
        "       'Age_Recipient', 'BMI_Recipient', 'PRA_Level (%)']])"
      ],
      "metadata": {
        "id": "dc_l_P6sYXzH"
      },
      "execution_count": null,
      "outputs": []
    },
    {
      "cell_type": "code",
      "source": [
        "# Train-test split (80% train, 20% test)\n",
        "X_train, X_test, y_train, y_test = train_test_split(X, y, test_size=0.2, random_state=42)"
      ],
      "metadata": {
        "id": "VhlRsoUGYZxn"
      },
      "execution_count": null,
      "outputs": []
    },
    {
      "cell_type": "code",
      "source": [
        "# Initialize individual regressors\n",
        "models = {\n",
        "    \"Linear Regression\": LinearRegression(),\n",
        "    \"Random Forest\": RandomForestRegressor(n_estimators=100, random_state=42),\n",
        "    \"SVR\": SVR(),\n",
        "    \"XGBoost\": XGBRegressor(n_estimators=100, random_state=42),\n",
        "    \"KNN\": KNeighborsRegressor()\n",
        "}"
      ],
      "metadata": {
        "id": "hVCDLgZIYcZV"
      },
      "execution_count": null,
      "outputs": []
    },
    {
      "cell_type": "code",
      "source": [
        "# Voting Regressor\n",
        "voting_regressor = VotingRegressor(estimators=list(models.items()))"
      ],
      "metadata": {
        "id": "5aOy8xioYgOF"
      },
      "execution_count": null,
      "outputs": []
    },
    {
      "cell_type": "code",
      "source": [
        "# Train Voting Regressor\n",
        "voting_regressor.fit(X_train, y_train)\n",
        "y_pred_voting = voting_regressor.predict(X_test)"
      ],
      "metadata": {
        "id": "0Xy6HD1QYjbR"
      },
      "execution_count": null,
      "outputs": []
    },
    {
      "cell_type": "code",
      "source": [
        "# Evaluate metrics for each model\n",
        "metrics = {}\n",
        "for name, model in models.items():\n",
        "    model.fit(X_train, y_train)\n",
        "    y_pred = model.predict(X_test)\n",
        "    mae = mean_absolute_error(y_test, y_pred)\n",
        "    r2 = r2_score(y_test, y_pred)\n",
        "    metrics[name] = {\"MAE\": mae, \"R²\": r2}"
      ],
      "metadata": {
        "id": "qW31s-pkYlUY"
      },
      "execution_count": null,
      "outputs": []
    },
    {
      "cell_type": "code",
      "source": [
        "# Add Voting Regressor to metrics\n",
        "mae_voting = mean_absolute_error(y_test, y_pred_voting)\n",
        "r2_voting = r2_score(y_test, y_pred_voting)\n",
        "metrics[\"Voting Regressor\"] = {\"MAE\": mae_voting, \"R²\": r2_voting}"
      ],
      "metadata": {
        "id": "8PGQuit2YooX"
      },
      "execution_count": null,
      "outputs": []
    },
    {
      "cell_type": "code",
      "source": [
        "# Convert metrics to DataFrame\n",
        "metrics_df = pd.DataFrame(metrics).T"
      ],
      "metadata": {
        "id": "HtSWeJNAYr19"
      },
      "execution_count": null,
      "outputs": []
    },
    {
      "cell_type": "code",
      "source": [
        "# Visualize MAE and R² Scores\n",
        "fig, axes = plt.subplots(1, 2, figsize=(14, 6))\n",
        "\n",
        "# Bar plot for MAE\n",
        "sns.barplot(x=metrics_df.index, y=metrics_df['MAE'], ax=axes[0], palette=\"viridis\")\n",
        "axes[0].set_title(\"Mean Absolute Error (MAE)\")\n",
        "axes[0].set_xticklabels(metrics_df.index, rotation=45)\n",
        "axes[0].set_ylabel(\"MAE\")\n",
        "\n",
        "# Bar plot for R²\n",
        "sns.barplot(x=metrics_df.index, y=metrics_df['R²'], ax=axes[1], palette=\"viridis\")\n",
        "axes[1].set_title(\"R² Score\")\n",
        "axes[1].set_xticklabels(metrics_df.index, rotation=45)\n",
        "axes[1].set_ylabel(\"R²\")\n",
        "\n",
        "plt.tight_layout()\n",
        "plt.show()\n"
      ],
      "metadata": {
        "colab": {
          "base_uri": "https://localhost:8080/",
          "height": 733
        },
        "id": "LlpS0s2UYuo7",
        "outputId": "5ceb8b57-91a6-4df2-ab8c-b3c673eacca8"
      },
      "execution_count": null,
      "outputs": [
        {
          "output_type": "stream",
          "name": "stderr",
          "text": [
            "<ipython-input-16-d534c6cc1591>:5: FutureWarning: \n",
            "\n",
            "Passing `palette` without assigning `hue` is deprecated and will be removed in v0.14.0. Assign the `x` variable to `hue` and set `legend=False` for the same effect.\n",
            "\n",
            "  sns.barplot(x=metrics_df.index, y=metrics_df['MAE'], ax=axes[0], palette=\"viridis\")\n",
            "<ipython-input-16-d534c6cc1591>:7: UserWarning: set_ticklabels() should only be used with a fixed number of ticks, i.e. after set_ticks() or using a FixedLocator.\n",
            "  axes[0].set_xticklabels(metrics_df.index, rotation=45)\n",
            "<ipython-input-16-d534c6cc1591>:11: FutureWarning: \n",
            "\n",
            "Passing `palette` without assigning `hue` is deprecated and will be removed in v0.14.0. Assign the `x` variable to `hue` and set `legend=False` for the same effect.\n",
            "\n",
            "  sns.barplot(x=metrics_df.index, y=metrics_df['R²'], ax=axes[1], palette=\"viridis\")\n",
            "<ipython-input-16-d534c6cc1591>:13: UserWarning: set_ticklabels() should only be used with a fixed number of ticks, i.e. after set_ticks() or using a FixedLocator.\n",
            "  axes[1].set_xticklabels(metrics_df.index, rotation=45)\n"
          ]
        },
        {
          "output_type": "display_data",
          "data": {
            "text/plain": [
              "<Figure size 1400x600 with 2 Axes>"
            ],
            "image/png": "[encoded data removed]"
          },
          "metadata": {}
        }
      ]
    },
    {
      "cell_type": "code",
      "source": [
        "# Confusion Matrix (Using Voting Regressor)\n",
        "kbins = KBinsDiscretizer(n_bins=3, encode='ordinal', strategy='uniform')\n",
        "y_test_binned = kbins.fit_transform(y_test.values.reshape(-1, 1))\n",
        "y_pred_voting_binned = kbins.transform(y_pred_voting.reshape(-1, 1))\n",
        "\n",
        "conf_matrix = confusion_matrix(y_test_binned, y_pred_voting_binned)\n",
        "\n",
        "# Plot confusion matrix\n",
        "plt.figure(figsize=(8, 6))\n",
        "sns.heatmap(conf_matrix, annot=True, cmap=\"Blues\", fmt=\"d\")\n",
        "plt.title(\"Confusion Matrix (Voting Regressor)\")\n",
        "plt.xlabel(\"Predicted\")\n",
        "plt.ylabel(\"Actual\")\n",
        "plt.show()"
      ],
      "metadata": {
        "colab": {
          "base_uri": "https://localhost:8080/",
          "height": 564
        },
        "id": "rAQ8lB2hZP6t",
        "outputId": "fe5eb7c5-0e27-4c0f-d7cc-70cee63ac421"
      },
      "execution_count": null,
      "outputs": [
        {
          "output_type": "display_data",
          "data": {
            "text/plain": [
              "<Figure size 800x600 with 2 Axes>"
            ],
            "image/png": "[encoded data removed]"
          },
          "metadata": {}
        }
      ]
    },
    {
      "cell_type": "code",
      "source": [
        "\n",
        "\n",
        "# Convert continuous values to categories (binning into 3 categories)\n",
        "kbins = KBinsDiscretizer(n_bins=3, encode='ordinal', strategy='uniform')\n",
        "y_train_binned = kbins.fit_transform(y_train.values.reshape(-1, 1))\n",
        "y_test_binned = kbins.transform(y_test.values.reshape(-1, 1))\n",
        "\n",
        "# Evaluate accuracy for each model\n",
        "accuracy_scores = {}\n",
        "for name, model in models.items():\n",
        "    y_pred = model.predict(X_test)\n",
        "    y_pred_binned = kbins.transform(y_pred.reshape(-1, 1))\n",
        "    accuracy = accuracy_score(y_test_binned, y_pred_binned)\n",
        "    accuracy_scores[name] = accuracy\n",
        "\n",
        "# Evaluate accuracy for Voting Regressor\n",
        "y_pred_voting = voting_regressor.predict(X_test)\n",
        "y_pred_voting_binned = kbins.transform(y_pred_voting.reshape(-1, 1))\n",
        "accuracy_voting = accuracy_score(y_test_binned, y_pred_voting_binned)\n",
        "accuracy_scores[\"Voting Regressor\"] = accuracy_voting\n",
        "\n",
        "# Convert accuracies to DataFrame\n",
        "accuracy_df = pd.DataFrame(accuracy_scores.items(), columns=['Model', 'Accuracy'])\n",
        "\n",
        "# Plot Accuracy Scores\n",
        "plt.figure(figsize=(10, 6))\n",
        "sns.barplot(x=\"Model\", y=\"Accuracy\", data=accuracy_df, palette=\"viridis\")\n",
        "plt.title(\"Model Accuracy Scores\")\n",
        "plt.ylabel(\"Accuracy\")\n",
        "plt.xticks(rotation=45)\n",
        "plt.show()\n"
      ],
      "metadata": {
        "colab": {
          "base_uri": "https://localhost:8080/",
          "height": 754
        },
        "id": "KrzvVEF0ZifS",
        "outputId": "d3d55b77-408c-426e-8410-b52701a9f05f"
      },
      "execution_count": null,
      "outputs": [
        {
          "output_type": "stream",
          "name": "stderr",
          "text": [
            "<ipython-input-18-022a1e504b18>:25: FutureWarning: \n",
            "\n",
            "Passing `palette` without assigning `hue` is deprecated and will be removed in v0.14.0. Assign the `x` variable to `hue` and set `legend=False` for the same effect.\n",
            "\n",
            "  sns.barplot(x=\"Model\", y=\"Accuracy\", data=accuracy_df, palette=\"viridis\")\n"
          ]
        },
        {
          "output_type": "display_data",
          "data": {
            "text/plain": [
              "<Figure size 1000x600 with 1 Axes>"
            ],
            "image/png": "[encoded data removed]"
          },
          "metadata": {}
        }
      ]
    },
    {
      "cell_type": "code",
      "source": [
        "!pip install joblib"
      ],
      "metadata": {
        "colab": {
          "base_uri": "https://localhost:8080/"
        },
        "id": "De2fuEEVadK9",
        "outputId": "9df7d68a-20ec-47dc-99c9-f6e1f95e5ab0"
      },
      "execution_count": null,
      "outputs": [
        {
          "output_type": "stream",
          "name": "stdout",
          "text": [
            "Requirement already satisfied: joblib in /usr/local/lib/python3.11/dist-packages (1.4.2)\n"
          ]
        }
      ]
    },
    {
      "cell_type": "code",
      "source": [
        "import joblib"
      ],
      "metadata": {
        "id": "VaIoztXme1MO"
      },
      "execution_count": null,
      "outputs": []
    },
    {
      "cell_type": "code",
      "source": [
        "# Save the trained model to a file\n",
        "joblib.dump(voting_regressor, 'voting_regressor_model.pkl')\n",
        "print(\"Model saved as 'voting_regressor_model.pkl'.\")"
      ],
      "metadata": {
        "colab": {
          "base_uri": "https://localhost:8080/"
        },
        "id": "oXuydtwTe5jR",
        "outputId": "7393bf93-df46-42d0-94c0-244231db594d"
      },
      "execution_count": null,
      "outputs": [
        {
          "output_type": "stream",
          "name": "stdout",
          "text": [
            "Model saved as 'voting_regressor_model.pkl'.\n"
          ]
        }
      ]
    },
    {
      "cell_type": "code",
      "source": [
        "# Load the saved model\n",
        "voting_regressor = joblib.load('voting_regressor_model.pkl')\n",
        "print(\"Model loaded successfully!\")"
      ],
      "metadata": {
        "colab": {
          "base_uri": "https://localhost:8080/"
        },
        "id": "kEIrS2XhgeEm",
        "outputId": "22dad7a5-c71a-4ab6-98c5-9dc8d25e9bf3"
      },
      "execution_count": null,
      "outputs": [
        {
          "output_type": "stream",
          "name": "stdout",
          "text": [
            "Model loaded successfully!\n"
          ]
        }
      ]
    },
    {
      "cell_type": "code",
      "source": [
        "\n",
        "# Example unseen data\n",
        "unseen_data = {\n",
        "    'Blood_Type_Donor': ['A'],\n",
        "    'Blood_Type_Recipient': ['O'],\n",
        "    'HLA_Mismatch': [3],\n",
        "    'Crossmatch_Test': ['Negative'],\n",
        "    'Donor_GFR': [102.5],\n",
        "    'Recipient_GFR': [45.8],\n",
        "    'Kidney_Size_Donor (cm³)': [180.3],\n",
        "    'Kidney_Size_Recipient (cm³)': [160.2],\n",
        "    'Age_Recipient': [40],\n",
        "    'BMI_Recipient': [22.5],\n",
        "    'Urgency_Level': ['Medium'],\n",
        "    'PRA_Level (%)': [50.3]\n",
        "}"
      ],
      "metadata": {
        "id": "m8kXiVtbgh5B"
      },
      "execution_count": null,
      "outputs": []
    },
    {
      "cell_type": "code",
      "source": [
        "# Convert to DataFrame\n",
        "unseen_df = pd.DataFrame(unseen_data)"
      ],
      "metadata": {
        "id": "_4YkrfTmgky-"
      },
      "execution_count": null,
      "outputs": []
    },
    {
      "cell_type": "code",
      "source": [
        "# Preprocessing for unseen data\n",
        "categorical_cols = ['Blood_Type_Donor', 'Blood_Type_Recipient', 'Crossmatch_Test', 'Urgency_Level']\n",
        "for col in categorical_cols:\n",
        "    le = LabelEncoder()\n",
        "    unseen_df[col] = le.fit_transform(unseen_df[col])  # Use the same encoding as training"
      ],
      "metadata": {
        "id": "bH63M0yPgnIi"
      },
      "execution_count": null,
      "outputs": []
    },
    {
      "cell_type": "code",
      "source": [
        "# Handle missing values (if any)\n",
        "unseen_df[['Donor_GFR', 'Recipient_GFR', 'Kidney_Size_Donor (cm³)',\n",
        "           'Kidney_Size_Recipient (cm³)', 'Age_Recipient', 'BMI_Recipient',\n",
        "           'PRA_Level (%)']] = imputer.transform(unseen_df[['Donor_GFR', 'Recipient_GFR',\n",
        "                                                            'Kidney_Size_Donor (cm³)',\n",
        "                                                            'Kidney_Size_Recipient (cm³)',\n",
        "                                                            'Age_Recipient', 'BMI_Recipient',\n",
        "                                                            'PRA_Level (%)']])"
      ],
      "metadata": {
        "id": "mBEtFQTBgoy_"
      },
      "execution_count": null,
      "outputs": []
    },
    {
      "cell_type": "code",
      "source": [
        "# Normalize continuous features\n",
        "unseen_df[['Donor_GFR', 'Recipient_GFR', 'Kidney_Size_Donor (cm³)',\n",
        "           'Kidney_Size_Recipient (cm³)', 'Age_Recipient', 'BMI_Recipient',\n",
        "           'PRA_Level (%)']] = scaler.transform(unseen_df[['Donor_GFR', 'Recipient_GFR',\n",
        "                                                           'Kidney_Size_Donor (cm³)',\n",
        "                                                           'Kidney_Size_Recipient (cm³)',\n",
        "                                                           'Age_Recipient', 'BMI_Recipient',\n",
        "                                                           'PRA_Level (%)']])\n"
      ],
      "metadata": {
        "id": "NqsV3fELgsSi"
      },
      "execution_count": null,
      "outputs": []
    },
    {
      "cell_type": "code",
      "source": [
        "# Predict the Similarity Score\n",
        "predicted_similarity_score = voting_regressor.predict(unseen_df)\n",
        "print(\"Predicted Similarity Score:\", predicted_similarity_score[0])"
      ],
      "metadata": {
        "id": "mCkry2wJgvQv",
        "outputId": "9bc75738-c6df-4b15-c07f-bcaef4d4a693",
        "colab": {
          "base_uri": "https://localhost:8080/"
        }
      },
      "execution_count": null,
      "outputs": [
        {
          "output_type": "stream",
          "name": "stdout",
          "text": [
            "Predicted Similarity Score: 0.8190612206648609\n"
          ]
        }
      ]
    },
    {
      "cell_type": "code",
      "source": [],
      "metadata": {
        "id": "Od3zDooJgxDO"
      },
      "execution_count": null,
      "outputs": []
    }
  ],
  "metadata": {
    "colab": {
      "provenance": []
    },
    "kernelspec": {
      "display_name": "Python 3",
      "name": "python3"
    },
    "language_info": {
      "name": "python"
    }
  },
  "nbformat": 4,
  "nbformat_minor": 0
}